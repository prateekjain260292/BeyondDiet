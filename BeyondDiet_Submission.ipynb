{
 "cells": [
  {
   "cell_type": "code",
   "execution_count": 15,
   "metadata": {},
   "outputs": [
    {
     "name": "stdout",
     "output_type": "stream",
     "text": [
      "['GENDER', 'AGE', 'MONTHJOINED', 'SOURCE', 'DEVICE', 'LTDURATION_normalized', 'Day0CLV', 'LTCLV_binary\\n']\n",
      "['F', '71.11666667', 'January', 'HumanInteraction', 'NULL', '1.195024414', '37.19', 'repeatPurchaser\\n']\n",
      "['F', '44.28333333', 'July', 'facebook', 'anphone', '-1.054390965', '37.31', 'singlePurchaser\\n']\n",
      "['F', '57.875', 'April', 'facebook', 'anphone', '-0.09805269', '37.19', 'repeatPurchaser\\n']\n"
     ]
    }
   ],
   "source": [
    "import numpy as np\n",
    "#0,2,6,7,9,14,15,16,17,18\n",
    "list = []\n",
    "list1 = []\n",
    "with open('C:\\RUTGERS\\Analytics\\BDdata_S1_prateek5.csv') as f:\n",
    "    for line in f:\n",
    "        ele = line.split(',')\n",
    "        #Normal\n",
    "        list.append(np.delete(line.split(','), [0,1,2,5,10,12]).tolist())\n",
    "        #LTDuration\n",
    "        #list.append(np.delete(line.split(','), [0,1,2,5,9,12]).tolist())\n",
    "\n",
    "\"\"\"\n",
    "count = 0\n",
    "print (list[0])\n",
    "del list[0]\n",
    "for ele in list:\n",
    "    if float(ele[8]) == float(ele[9]):\n",
    "        count = count+1\n",
    "print (count)\n",
    "\"\"\"\n",
    "print (list[0])\n",
    "print (list[1])\n",
    "print (list[2])\n",
    "print (list[25645])"
   ]
  },
  {
   "cell_type": "code",
   "execution_count": 16,
   "metadata": {
    "collapsed": true
   },
   "outputs": [],
   "source": [
    "del list[0]"
   ]
  },
  {
   "cell_type": "code",
   "execution_count": 17,
   "metadata": {
    "collapsed": true
   },
   "outputs": [],
   "source": [
    "class_train = []\n",
    "for ele in list:\n",
    "    if ele[7] == 'repeatPurchaser\\n':\n",
    "        class_train.append(0)\n",
    "    else:\n",
    "        class_train.append(1)"
   ]
  },
  {
   "cell_type": "code",
   "execution_count": 18,
   "metadata": {},
   "outputs": [
    {
     "name": "stdout",
     "output_type": "stream",
     "text": [
      "['F', '71.11666667', 'January', 'HumanInteraction', 'NULL', '1.195024414', '37.19', 'repeatPurchaser\\n']\n",
      "['F', '44.28333333', 'July', 'facebook', 'anphone', '-1.054390965', '37.31', 'singlePurchaser\\n']\n",
      "[0, 71.11666667, 0, 2, 1, 1.195024414, 37.19]\n",
      "[0, 44.28333333, 6, 0, 2, -1.054390965, 37.31]\n"
     ]
    }
   ],
   "source": [
    "gender = ['F','M','NULL']\n",
    "MonthJoined = ['January','February','March','April','May','June','July','August','September','October', 'NULL']\n",
    "\n",
    "source = ['facebook', 'NULL', 'HumanInteraction', 'bing', 'adwords', 'pinterest', 'retargeting', 'affiliate', 'google', 'youtube', 'thrivefacebook']\n",
    "device = ['iphone', 'NULL', 'anphone', 'desktop']\n",
    "\n",
    "final = []\n",
    "\n",
    "for ele in list:\n",
    "    gen = ele[0]\n",
    "    mon = ele[2]\n",
    "    sou = ele[3]\n",
    "    dev = ele[4]\n",
    "    if ele[1] == 'NULL':\n",
    "        age = 7\n",
    "    elif float(ele[1]) <= 17:\n",
    "        age = 0\n",
    "    elif float(ele[1]) <= 24:\n",
    "        age = 1\n",
    "    elif float(ele[1]) <= 34:\n",
    "        age = 2\n",
    "    elif float(ele[1]) <= 44:\n",
    "        age = 3\n",
    "    elif float(ele[1]) <= 54:\n",
    "        age = 4\n",
    "    elif float(ele[1]) <= 64:\n",
    "        age = 5\n",
    "    else:\n",
    "        age = 6\n",
    "    if ele[1] == 'NULL':\n",
    "        ele[1] = 0\n",
    "    if ele[5] == 'NULL':\n",
    "        ele[5] = 0\n",
    "    if ele[6] == 'NULL':\n",
    "        ele[6] = 0\n",
    "    #Normal\n",
    "    final.append([gender.index(gen), float(ele[1]), MonthJoined.index(mon), source.index(sou), device.index(dev), float(ele[5]), float(ele[6])])\n",
    "    #Remove AGe and LTDuration\n",
    "    #final.append([gender.index(gen), MonthJoined.index(mon), source.index(sou), device.index(dev), float(ele[6])])\n",
    "    #Nominal Age\n",
    "    #final.append([gender.index(gen), age, MonthJoined.index(mon), source.index(sou), device.index(dev), float(ele[5]), float(ele[6])])\n",
    "\n",
    "    \n",
    "print (list[0])\n",
    "print (list[1])\n",
    "print (final[0])\n",
    "print (final[1])"
   ]
  },
  {
   "cell_type": "code",
   "execution_count": 19,
   "metadata": {},
   "outputs": [
    {
     "name": "stdout",
     "output_type": "stream",
     "text": [
      "[(1, 20427), (0, 12717)]\n",
      "[(1, 5129), (0, 3157)]\n",
      "33144\n",
      "8286\n"
     ]
    }
   ],
   "source": [
    "from sklearn.model_selection import train_test_split\n",
    "from collections import Counter\n",
    "\n",
    "X_train, X_test, y_train, y_test = train_test_split(final, class_train, test_size=0.2, random_state=0)\n",
    "\n",
    "c = Counter(y_train)\n",
    "print (c.most_common())\n",
    "\n",
    "c = Counter(y_test)\n",
    "print (c.most_common())\n",
    "\n",
    "\n",
    "print (len(y_train))\n",
    "print (len(y_test))"
   ]
  },
  {
   "cell_type": "code",
   "execution_count": 20,
   "metadata": {
    "collapsed": true
   },
   "outputs": [],
   "source": [
    "import matplotlib.pyplot as plt\n",
    "\n",
    "def plot_confusion_matrix(cm, classes,\n",
    "                          normalize=False,\n",
    "                          title='Confusion matrix',\n",
    "                          cmap=plt.cm.Blues):\n",
    "    \"\"\"\n",
    "    This function prints and plots the confusion matrix.\n",
    "    Normalization can be applied by setting `normalize=True`.\n",
    "    \"\"\"\n",
    "    if normalize:\n",
    "        cm = cm.astype('float') / cm.sum(axis=1)[:, np.newaxis]\n",
    "        print(\"Normalized confusion matrix\")\n",
    "    else:\n",
    "        print('Confusion matrix, without normalization')\n",
    "\n",
    "    print(cm)\n",
    "\n",
    "    plt.imshow(cm, interpolation='nearest', cmap=cmap)\n",
    "    plt.title(title)\n",
    "    plt.colorbar()\n",
    "    tick_marks = np.arange(len(classes))\n",
    "    plt.xticks(tick_marks, classes, rotation=45)\n",
    "    plt.yticks(tick_marks, classes)\n",
    "\n",
    "    fmt = '.2f' if normalize else 'd'\n",
    "    thresh = cm.max() / 2.\n",
    "    for i, j in itertools.product(range(cm.shape[0]), range(cm.shape[1])):\n",
    "        plt.text(j, i, format(cm[i, j], fmt),\n",
    "                 horizontalalignment=\"center\",\n",
    "                 color=\"white\" if cm[i, j] > thresh else \"black\")\n",
    "\n",
    "    plt.tight_layout()\n",
    "    plt.ylabel('True label')\n",
    "    plt.xlabel('Predicted label')"
   ]
  },
  {
   "cell_type": "code",
   "execution_count": 21,
   "metadata": {},
   "outputs": [
    {
     "name": "stdout",
     "output_type": "stream",
     "text": [
      "Accuracy: 0.605599806903\n",
      "             precision    recall  f1-score   support\n",
      "\n",
      "   Multiple       0.48      0.34      0.40      3157\n",
      "       Once       0.65      0.77      0.71      5129\n",
      "\n",
      "avg / total       0.59      0.61      0.59      8286\n",
      "\n",
      "Confusion matrix, without normalization\n",
      "[[1076 2081]\n",
      " [1187 3942]]\n",
      "{'fit_time': array([ 0.06824517,  0.04211187,  0.04211164,  0.04512024,  0.04562163,\n",
      "        0.04411769,  0.04463482,  0.04211116,  0.04211092,  0.0421133 ]), 'score_time': array([ 0.02607012,  0.01554155,  0.01554012,  0.01604295,  0.01654363,\n",
      "        0.01654363,  0.0165441 ,  0.01554155,  0.01554084,  0.01553988]), 'test_accuracy': array([ 0.60844646,  0.58763198,  0.61930618,  0.60723982,  0.5918552 ,\n",
      "        0.59155354,  0.61085973,  0.6024751 ,  0.59855116,  0.59855116]), 'train_accuracy': array([ 0.60089175,  0.60320493,  0.59968487,  0.60102585,  0.60273559,\n",
      "        0.60276912,  0.60062355,  0.60155543,  0.60199122,  0.60202474]), 'test_precision_weighted': array([ 0.58879071,  0.56582889,  0.60011079,  0.59048911,  0.569379  ,\n",
      "        0.57221436,  0.59584788,  0.58013773,  0.57696412,  0.58027188]), 'train_precision_weighted': array([ 0.58124557,  0.5837807 ,  0.58004452,  0.5810293 ,  0.58337159,\n",
      "        0.58309873,  0.58040665,  0.58220115,  0.58254234,  0.58223372]), 'test_recall_weighted': array([ 0.60844646,  0.58763198,  0.61930618,  0.60723982,  0.5918552 ,\n",
      "        0.59155354,  0.61085973,  0.6024751 ,  0.59855116,  0.59855116]), 'train_recall_weighted': array([ 0.60089175,  0.60320493,  0.59968487,  0.60102585,  0.60273559,\n",
      "        0.60276912,  0.60062355,  0.60155543,  0.60199122,  0.60202474]), 'test_f1_weighted': array([ 0.59019231,  0.56931688,  0.59968421,  0.59312687,  0.57219234,\n",
      "        0.57573724,  0.59860854,  0.58130693,  0.57911408,  0.58336269]), 'train_f1_weighted': array([ 0.58371881,  0.58603665,  0.58266532,  0.58337185,  0.5857076 ,\n",
      "        0.58532507,  0.58272816,  0.58468341,  0.58494121,  0.58451376])}\n"
     ]
    },
    {
     "ename": "SystemExit",
     "evalue": "",
     "output_type": "error",
     "traceback": [
      "An exception has occurred, use %tb to see the full traceback.\n",
      "\u001b[1;31mSystemExit\u001b[0m\n"
     ]
    },
    {
     "name": "stderr",
     "output_type": "stream",
     "text": [
      "C:\\Users\\prate\\Anaconda3\\lib\\site-packages\\IPython\\core\\interactiveshell.py:2870: UserWarning: To exit: use 'exit', 'quit', or Ctrl-D.\n",
      "  warn(\"To exit: use 'exit', 'quit', or Ctrl-D.\", stacklevel=1)\n"
     ]
    },
    {
     "data": {
      "image/png": "[encoded data removed]",
      "text/plain": [
       "<matplotlib.figure.Figure at 0x213502e4da0>"
      ]
     },
     "metadata": {},
     "output_type": "display_data"
    },
    {
     "data": {
      "text/plain": [
       "<matplotlib.figure.Figure at 0x2135343d6a0>"
      ]
     },
     "metadata": {},
     "output_type": "display_data"
    }
   ],
   "source": [
    "import matplotlib.pyplot as plt\n",
    "from sklearn.metrics import confusion_matrix\n",
    "import itertools\n",
    "from sklearn.metrics import precision_score\n",
    "from sklearn.metrics import accuracy_score\n",
    "from sklearn.metrics import recall_score\n",
    "from sklearn.metrics import classification_report\n",
    "from sklearn.metrics import precision_recall_curve\n",
    "from sklearn.metrics import roc_curve\n",
    "from sklearn.model_selection import cross_validate\n",
    "from sklearn.model_selection import cross_val_score\n",
    "\n",
    "from sklearn.naive_bayes import BernoulliNB\n",
    "\n",
    "\n",
    "class_names = ['Multiple','Once']\n",
    "#print len(X_train)\n",
    "#print len(y_train)\n",
    "\n",
    "clf = BernoulliNB()\n",
    "clf.fit(X_train, y_train)\n",
    "\n",
    "pred = clf.predict(np.array(X_test))\n",
    "proba = clf.predict_proba(np.array(X_test))\n",
    "\n",
    "score = []\n",
    "for ele in proba:\n",
    "    score.append(ele[1])\n",
    "\n",
    "from sklearn.metrics import accuracy_score\n",
    "print ('Accuracy: '+str(accuracy_score(y_test, pred)))\n",
    "print(classification_report(y_test, pred, target_names=class_names))\n",
    "\n",
    "\n",
    "cnf_matrix = confusion_matrix(y_test, pred)\n",
    "\n",
    "\n",
    "%matplotlib inline\n",
    "# Plot non-normalized confusion matrix\n",
    "plot_confusion_matrix(cnf_matrix, classes=class_names,\n",
    "                      title='Confusion matrix')\n",
    "plt.figure()\n",
    "\n",
    "#For Cross Validation\n",
    "scores = cross_validate(clf, X_train, y_train, cv=10, scoring = ['accuracy','precision_weighted','recall_weighted','f1_weighted'])\n",
    "print (scores)"
   ]
  },
  {
   "cell_type": "code",
   "execution_count": null,
   "metadata": {
    "collapsed": true
   },
   "outputs": [],
   "source": [
    "from sklearn.ensemble import RandomForestClassifier\n",
    "\n",
    "clf2 = RandomForestClassifier(n_estimators=100, criterion='entropy', max_features = None)\n",
    "\n",
    "clf2.fit(X_train, y_train)\n",
    "\n",
    "pred2 = clf2.predict(np.array(X_test))\n",
    "proba2 = clf2.predict_proba(np.array(X_test))\n",
    "tree = clf2.decision_path(X_test)\n",
    "print (clf2.feature_importances_)\n",
    "\n",
    "print (tree)\n",
    "\n",
    "score2 = []\n",
    "for ele in proba2:\n",
    "    score2.append(ele[1])\n",
    "\n",
    "\n",
    "print ('Accuracy: '+str(accuracy_score(y_test, pred2)))\n",
    "print(classification_report(y_test, pred2, target_names=class_names))\n",
    "\n",
    "cnf_matrix = confusion_matrix(y_test, pred2)\n",
    "\n",
    "%matplotlib inline\n",
    "# Plot non-normalized confusion matrix\n",
    "plot_confusion_matrix(cnf_matrix, classes=class_names,\n",
    "                      title='Confusion matrix')\n",
    "plt.figure()\n",
    "\n",
    "#For Cross Validation\n",
    "scores = cross_validate(clf2, X_train, y_train, cv=10, scoring = ['accuracy','precision_weighted','recall_weighted','f1_weighted'])\n",
    "print (scores)"
   ]
  },
  {
   "cell_type": "code",
   "execution_count": null,
   "metadata": {
    "collapsed": true
   },
   "outputs": [],
   "source": [
    "from sklearn.svm import SVC\n",
    "\n",
    "clf3 = SVC(probability=True)\n",
    "\n",
    "clf3.fit(X_train, y_train)\n",
    "\n",
    "pred3 = clf3.predict(np.array(X_test))\n",
    "proba3 = clf3.predict_proba(np.array(X_test))\n",
    "\n",
    "score3 = []\n",
    "for ele in proba3:\n",
    "    score3.append(ele[1])\n",
    "\n",
    "print ('Accuracy: '+str(accuracy_score(y_test, pred3)))\n",
    "print(classification_report(y_test, pred3, target_names=class_names))\n",
    "\n",
    "cnf_matrix = confusion_matrix(y_test, pred3)\n",
    "\n",
    "%matplotlib inline\n",
    "# Plot non-normalized confusion matrix\n",
    "plot_confusion_matrix(cnf_matrix, classes=class_names,\n",
    "                      title='Confusion matrix')\n",
    "plt.figure()\n",
    "\n",
    "fpr, tpr, thresholds = roc_curve(y_test, score)\n",
    "plt.plot(fpr,tpr,color='b', alpha=0.2, label= 'Naive')\n",
    "\n",
    "fpr2, tpr2, thresholds2 = roc_curve(y_test, score2)\n",
    "plt.plot(fpr2,tpr2,color='r', alpha=0.2, label= 'RF')\n",
    "\n",
    "fpr3, tpr3, thresholds3 = roc_curve(y_test, score3)\n",
    "plt.plot(fpr3,tpr3,color='g', alpha=0.2, label= 'SVC')\n",
    "\n",
    "plt.xlabel(\"False Positive Rate\")\n",
    "plt.ylabel(\"True Positive Rate\")\n",
    "plt.legend()\n",
    "\n",
    "plt.figure\n",
    "\n",
    "#For Cross Validation\n",
    "scores = cross_validate(clf3, X_train, y_train, cv=10, scoring = ['accuracy','precision_weighted','recall_weighted','f1_weighted'])\n",
    "print (scores)"
   ]
  }
 ],
 "metadata": {
  "kernelspec": {
   "display_name": "Python 3",
   "language": "python",
   "name": "python3"
  },
  "language_info": {
   "codemirror_mode": {
    "name": "ipython",
    "version": 3
   },
   "file_extension": ".py",
   "mimetype": "text/x-python",
   "name": "python",
   "nbconvert_exporter": "python",
   "pygments_lexer": "ipython3",
   "version": "3.6.3"
  }
 },
 "nbformat": 4,
 "nbformat_minor": 2
}
