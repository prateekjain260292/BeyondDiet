{
 "cells": [
  {
   "cell_type": "code",
   "execution_count": 1,
   "metadata": {},
   "outputs": [
    {
     "name": "stdout",
     "output_type": "stream",
     "text": [
      "['Gender', 'Age', 'LifetimeDuration', 'MonthJoined', 'Day0Value', 'CLV', 'LifetimeTx', 'Food', 'Source']\n",
      "['F', '65', '291', 'January', '$37.19 ', '$37.19 ', '1', 'ham', 'facebook']\n",
      "['F', '63', '291', 'January', '$37.19 ', '$136.02 ', '5', 'ham', 'facebook']\n"
     ]
    }
   ],
   "source": [
    "import numpy as np\n",
    "#0,2,6,7,9,14,15,16,17,18\n",
    "list = []\n",
    "list1 = []\n",
    "with open('C:\\RUTGERS\\Analytics\\BDIdea1DataV6.csv') as f:\n",
    "    for line in f:\n",
    "        ele = line.split(',')\n",
    "        if len(ele) is 19:\n",
    "            list.append(np.delete(line.split(','), [0,2,6,7,9,14,15,16,17,18]).tolist())\n",
    "\n",
    "print (list[0])\n",
    "print (list[1])\n",
    "print (list[2])"
   ]
  },
  {
   "cell_type": "code",
   "execution_count": 2,
   "metadata": {
    "collapsed": true
   },
   "outputs": [],
   "source": [
    "class_train = []\n",
    "for ele in list:\n",
    "    if ele[4] == ele[5]:\n",
    "        class_train.append(0)\n",
    "    else:\n",
    "        class_train.append(1)"
   ]
  },
  {
   "cell_type": "code",
   "execution_count": 3,
   "metadata": {
    "collapsed": true
   },
   "outputs": [],
   "source": [
    "del list[0]\n",
    "del class_train[0]"
   ]
  },
  {
   "cell_type": "code",
   "execution_count": 4,
   "metadata": {},
   "outputs": [
    {
     "name": "stdout",
     "output_type": "stream",
     "text": [
      "['F', '65', '291', 'January', '$37.19 ', '$37.19 ', '1', 'ham', 'facebook']\n",
      "$37.19 \n",
      "['F', '65', '291', 'January', '37.19 ', '$37.19 ', '1', 'ham', 'facebook']\n",
      "['F', '63', '291', 'January', '37.19 ', '$136.02 ', '5', 'ham', 'facebook']\n",
      "[0, 65, 291, 0, 37.19, 0, 0]\n",
      "[0, 63, 291, 0, 37.19, 0, 0]\n"
     ]
    }
   ],
   "source": [
    "from sklearn.preprocessing import OneHotEncoder\n",
    "\n",
    "print (list[0])\n",
    "print (list[0][4])\n",
    "\n",
    "for idx, i in enumerate(list):\n",
    "    if i[4] == 'NULL':\n",
    "        list[idx][4] = 0\n",
    "    else:\n",
    "        list[idx][4] = i[4].replace('$','')\n",
    "    \n",
    "print (list[0])\n",
    "print (list[1])    \n",
    "\n",
    "gender = ['F','M','NULL']\n",
    "MonthJoined = ['January','February','March','April','May','June','July','August','September','October', 'NULL']\n",
    "food = ['ham', 'bacon', 'pita', 'salmon', 'jello', 'dahlia', 'Figs', 'dates', 'lime', 'scallops', 'home', 'cosmos', 'donut', 'parsley', 'jalapeno', 'Wasabi', 'almond', 'prunes', 'eggs', 'Oregano', 'rebecca', 'roses', 'pricklypear', 'cb', 'iceberg', 'potato', 'blueberry', 'aster', 'jennifer', 'beef', 'elizabeth', 'daisy', 'brittany', 'shaquandria', 'margie', 'ilene', 'mustard', 'sugar', 'lorraine', 'lemongrass', 'pretzel', 'jazmine', 'freshberry', 'michelle', 'khadeejah', 'guava', 'plums', 'yambean', 'tsdsugar', 'bread', 'artichoke', 'gnocchi', 'Acorn', 'ziti', 'Shawarma', 'raspberry','plum','NULL']\n",
    "source = ['facebook', 'NULL', 'bing', 'AdWords', 'fb', 'affiliate', 'pinterest', 'retargeting', 'google', 'beyonddiet', 'ginger', 'youtube', 'thrivefacebook']\n",
    "\n",
    "final = []\n",
    "\n",
    "for ele in list:\n",
    "    gen = ele[0]\n",
    "    mon = ele[3]\n",
    "    foo = ele[7]\n",
    "    sou = ele[8]\n",
    "    if ele[1] == 'NULL':\n",
    "        ele[1] = 0\n",
    "    if ele[2] == 'NULL':\n",
    "        ele[2] = 0\n",
    "    if ele[4] == 'NULL':\n",
    "        ele[4] = 0\n",
    "    final.append([gender.index(gen), int(ele[1]), int(ele[2]), MonthJoined.index(mon), float(ele[4]), food.index(foo), source.index(sou)])\n",
    "    \n",
    "f = open('ruth_final.txt','w+')\n",
    "for ele,ele2 in zip(final,class_train):\n",
    "    f.write(','.join(str(x) for x in ele)+','+str(ele2)+'\\n')\n",
    "    \n",
    "f2 = open('ruth_raw.txt','w+')\n",
    "for ele,ele2 in zip(list,class_train):\n",
    "    f2.write(','.join(str(x) for x in ele)+','+str(ele2)+'\\n')\n",
    "    \n",
    "print (final[0])\n",
    "print (final[1])\n"
   ]
  },
  {
   "cell_type": "code",
   "execution_count": 5,
   "metadata": {},
   "outputs": [
    {
     "name": "stdout",
     "output_type": "stream",
     "text": [
      "[(0, 20540), (1, 13024)]\n",
      "[(0, 5136), (1, 3255)]\n",
      "33564\n",
      "8391\n"
     ]
    }
   ],
   "source": [
    "from sklearn.model_selection import train_test_split\n",
    "from collections import Counter\n",
    "\n",
    "X_train, X_test, y_train, y_test = train_test_split(final, class_train, test_size=0.2)\n",
    "\n",
    "c = Counter(y_train)\n",
    "print (c.most_common())\n",
    "\n",
    "c = Counter(y_test)\n",
    "print (c.most_common())\n",
    "\n",
    "\n",
    "print (len(y_train))\n",
    "print (len(y_test))"
   ]
  },
  {
   "cell_type": "code",
   "execution_count": 6,
   "metadata": {
    "collapsed": true
   },
   "outputs": [],
   "source": [
    "import matplotlib.pyplot as plt\n",
    "\n",
    "def plot_confusion_matrix(cm, classes,\n",
    "                          normalize=False,\n",
    "                          title='Confusion matrix',\n",
    "                          cmap=plt.cm.Blues):\n",
    "    \"\"\"\n",
    "    This function prints and plots the confusion matrix.\n",
    "    Normalization can be applied by setting `normalize=True`.\n",
    "    \"\"\"\n",
    "    if normalize:\n",
    "        cm = cm.astype('float') / cm.sum(axis=1)[:, np.newaxis]\n",
    "        print(\"Normalized confusion matrix\")\n",
    "    else:\n",
    "        print('Confusion matrix, without normalization')\n",
    "\n",
    "    print(cm)\n",
    "\n",
    "    plt.imshow(cm, interpolation='nearest', cmap=cmap)\n",
    "    plt.title(title)\n",
    "    plt.colorbar()\n",
    "    tick_marks = np.arange(len(classes))\n",
    "    plt.xticks(tick_marks, classes, rotation=45)\n",
    "    plt.yticks(tick_marks, classes)\n",
    "\n",
    "    fmt = '.2f' if normalize else 'd'\n",
    "    thresh = cm.max() / 2.\n",
    "    for i, j in itertools.product(range(cm.shape[0]), range(cm.shape[1])):\n",
    "        plt.text(j, i, format(cm[i, j], fmt),\n",
    "                 horizontalalignment=\"center\",\n",
    "                 color=\"white\" if cm[i, j] > thresh else \"black\")\n",
    "\n",
    "    plt.tight_layout()\n",
    "    plt.ylabel('True label')\n",
    "    plt.xlabel('Predicted label')"
   ]
  },
  {
   "cell_type": "code",
   "execution_count": 7,
   "metadata": {},
   "outputs": [
    {
     "name": "stdout",
     "output_type": "stream",
     "text": [
      "Accuracy: 0.612084376117\n",
      "             precision    recall  f1-score   support\n",
      "\n",
      "       Once       0.65      0.78      0.71      5136\n",
      "   Multiple       0.50      0.34      0.41      3255\n",
      "\n",
      "avg / total       0.59      0.61      0.59      8391\n",
      "\n",
      "Confusion matrix, without normalization\n",
      "[[4026 1110]\n",
      " [2145 1110]]\n"
     ]
    },
    {
     "data": {
      "text/plain": [
       "<matplotlib.figure.Figure at 0x2319021d160>"
      ]
     },
     "execution_count": 7,
     "metadata": {},
     "output_type": "execute_result"
    },
    {
     "data": {
      "image/png": "[encoded data removed]",
      "text/plain": [
       "<matplotlib.figure.Figure at 0x231905ca668>"
      ]
     },
     "metadata": {},
     "output_type": "display_data"
    },
    {
     "data": {
      "text/plain": [
       "<matplotlib.figure.Figure at 0x2319021d160>"
      ]
     },
     "metadata": {},
     "output_type": "display_data"
    }
   ],
   "source": [
    "import matplotlib.pyplot as plt\n",
    "from sklearn.metrics import confusion_matrix\n",
    "import itertools\n",
    "from sklearn.metrics import precision_score\n",
    "from sklearn.metrics import accuracy_score\n",
    "from sklearn.metrics import recall_score\n",
    "from sklearn.metrics import classification_report\n",
    "from sklearn.metrics import precision_recall_curve\n",
    "from sklearn.metrics import roc_curve\n",
    "\n",
    "from sklearn.naive_bayes import BernoulliNB\n",
    "\n",
    "\n",
    "class_names = ['Once','Multiple']\n",
    "#print len(X_train)\n",
    "#print len(y_train)\n",
    "\n",
    "clf = BernoulliNB()\n",
    "clf.fit(X_train, y_train)\n",
    "\n",
    "pred = clf.predict(np.array(X_test))\n",
    "proba = clf.predict_proba(np.array(X_test))\n",
    "\n",
    "score = []\n",
    "for ele in proba:\n",
    "    score.append(ele[1])\n",
    "\n",
    "from sklearn.metrics import accuracy_score\n",
    "print ('Accuracy: '+str(accuracy_score(y_test, pred)))\n",
    "print(classification_report(y_test, pred, target_names=class_names))\n",
    "\n",
    "\n",
    "cnf_matrix = confusion_matrix(y_test, pred)\n",
    "\n",
    "\n",
    "%matplotlib inline\n",
    "# Plot non-normalized confusion matrix\n",
    "plot_confusion_matrix(cnf_matrix, classes=class_names,\n",
    "                      title='Confusion matrix')\n",
    "plt.figure()\n",
    "\n",
    "#Plotting Precision-Recall Curve\n",
    "\n",
    "#precision, recall, _ = precision_recall_curve(y_test, pred)\n",
    "#print (precision)\n",
    "#print (recall)\n",
    "#plt.plot(recall, precision, color='b', alpha=0.2)\n",
    "#plt.fill_between(recall, precision, step='post', alpha=0.2,color='b')\n",
    "\n",
    "#plt.xlabel('Recall')\n",
    "#plt.ylabel('Precision')\n",
    "#plt.ylim([0.0, 1.05])\n",
    "#plt.xlim([0.0, 1.0])\n",
    "#plt.figure"
   ]
  },
  {
   "cell_type": "code",
   "execution_count": 8,
   "metadata": {},
   "outputs": [
    {
     "name": "stdout",
     "output_type": "stream",
     "text": [
      "Accuracy: 0.691931831724\n",
      "             precision    recall  f1-score   support\n",
      "\n",
      "       Once       0.72      0.80      0.76      5136\n",
      "   Multiple       0.62      0.52      0.57      3255\n",
      "\n",
      "avg / total       0.69      0.69      0.69      8391\n",
      "\n",
      "Confusion matrix, without normalization\n",
      "[[4122 1014]\n",
      " [1571 1684]]\n"
     ]
    },
    {
     "data": {
      "text/plain": [
       "<matplotlib.figure.Figure at 0x23190585080>"
      ]
     },
     "execution_count": 8,
     "metadata": {},
     "output_type": "execute_result"
    },
    {
     "data": {
      "image/png": "[encoded data removed]",
      "text/plain": [
       "<matplotlib.figure.Figure at 0x2318eecb978>"
      ]
     },
     "metadata": {},
     "output_type": "display_data"
    },
    {
     "data": {
      "text/plain": [
       "<matplotlib.figure.Figure at 0x23190585080>"
      ]
     },
     "metadata": {},
     "output_type": "display_data"
    }
   ],
   "source": [
    "from sklearn.ensemble import RandomForestClassifier\n",
    "\n",
    "clf2 = RandomForestClassifier(n_estimators=10)\n",
    "\n",
    "clf2.fit(X_train, y_train)\n",
    "\n",
    "pred2 = clf2.predict(np.array(X_test))\n",
    "proba2 = clf2.predict_proba(np.array(X_test))\n",
    "\n",
    "score2 = []\n",
    "for ele in proba2:\n",
    "    score2.append(ele[1])\n",
    "\n",
    "\n",
    "print ('Accuracy: '+str(accuracy_score(y_test, pred2)))\n",
    "print(classification_report(y_test, pred2, target_names=class_names))\n",
    "\n",
    "cnf_matrix = confusion_matrix(y_test, pred2)\n",
    "\n",
    "%matplotlib inline\n",
    "# Plot non-normalized confusion matrix\n",
    "plot_confusion_matrix(cnf_matrix, classes=class_names,\n",
    "                      title='Confusion matrix')\n",
    "plt.figure()\n",
    "\n",
    "#Plotting Precision-Recall Curve\n",
    "#precision, recall, _ = precision_recall_curve(y_test, pred2)\n",
    "#plt.step(recall, precision, color='b', alpha=0.2,\n",
    "        # where='post')\n",
    "#plt.fill_between(recall, precision, step='post', alpha=0.2,\n",
    "                 #color='b')\n",
    "\n",
    "#plt.xlabel('Recall')\n",
    "#plt.ylabel('Precision')\n",
    "#plt.ylim([0.0, 1.05])\n",
    "#plt.xlim([0.0, 1.0])\n",
    "#plt.figure"
   ]
  },
  {
   "cell_type": "code",
   "execution_count": 9,
   "metadata": {},
   "outputs": [
    {
     "name": "stdout",
     "output_type": "stream",
     "text": [
      "Accuracy: 0.716243594327\n",
      "             precision    recall  f1-score   support\n",
      "\n",
      "       Once       0.72      0.88      0.79      5136\n",
      "   Multiple       0.70      0.46      0.56      3255\n",
      "\n",
      "avg / total       0.71      0.72      0.70      8391\n",
      "\n",
      "Confusion matrix, without normalization\n",
      "[[4502  634]\n",
      " [1747 1508]]\n"
     ]
    },
    {
     "data": {
      "text/plain": [
       "<function matplotlib.pyplot.figure>"
      ]
     },
     "execution_count": 9,
     "metadata": {},
     "output_type": "execute_result"
    },
    {
     "data": {
      "image/png": "[encoded data removed]",
      "text/plain": [
       "<matplotlib.figure.Figure at 0x23191abce10>"
      ]
     },
     "metadata": {},
     "output_type": "display_data"
    },
    {
     "data": {
      "image/png": "[encoded data removed]",
      "text/plain": [
       "<matplotlib.figure.Figure at 0x2319071fda0>"
      ]
     },
     "metadata": {},
     "output_type": "display_data"
    }
   ],
   "source": [
    "from sklearn.svm import SVC\n",
    "\n",
    "clf3 = SVC(probability=True)\n",
    "\n",
    "clf3.fit(X_train, y_train)\n",
    "\n",
    "pred3 = clf3.predict(np.array(X_test))\n",
    "proba3 = clf3.predict_proba(np.array(X_test))\n",
    "\n",
    "score3 = []\n",
    "for ele in proba3:\n",
    "    score3.append(ele[1])\n",
    "\n",
    "print ('Accuracy: '+str(accuracy_score(y_test, pred3)))\n",
    "print(classification_report(y_test, pred3, target_names=class_names))\n",
    "\n",
    "cnf_matrix = confusion_matrix(y_test, pred3)\n",
    "\n",
    "%matplotlib inline\n",
    "# Plot non-normalized confusion matrix\n",
    "plot_confusion_matrix(cnf_matrix, classes=class_names,\n",
    "                      title='Confusion matrix')\n",
    "plt.figure()\n",
    "\n",
    "\"\"\"\n",
    "#Plotting Precision-Recall Curve\n",
    "\n",
    "precision, recall, _ = precision_recall_curve(y_test, pred3)\n",
    "plt.step(recall, precision, color='b', alpha=0.2,\n",
    "         where='post')\n",
    "plt.fill_between(recall, precision, step='post', alpha=0.2,\n",
    "                 color='b')\n",
    "\n",
    "plt.xlabel('Recall')\n",
    "plt.ylabel('Precision')\n",
    "plt.ylim([0.0, 1.05])\n",
    "plt.xlim([0.0, 1.0])\n",
    "plt.figure\n",
    "\"\"\"\n",
    "\n",
    "fpr, tpr, thresholds = roc_curve(y_test, score)\n",
    "plt.plot(fpr,tpr,color='b', alpha=0.2, label= 'Naive')\n",
    "\n",
    "fpr2, tpr2, thresholds2 = roc_curve(y_test, score2)\n",
    "plt.plot(fpr2,tpr2,color='r', alpha=0.2, label= 'RF')\n",
    "\n",
    "fpr3, tpr3, thresholds3 = roc_curve(y_test, score3)\n",
    "plt.plot(fpr3,tpr3,color='g', alpha=0.2, label= 'SVC')\n",
    "\n",
    "plt.figure"
   ]
  }
 ],
 "metadata": {
  "kernelspec": {
   "display_name": "Python 3",
   "language": "python",
   "name": "python3"
  },
  "language_info": {
   "codemirror_mode": {
    "name": "ipython",
    "version": 3
   },
   "file_extension": ".py",
   "mimetype": "text/x-python",
   "name": "python",
   "nbconvert_exporter": "python",
   "pygments_lexer": "ipython3",
   "version": "3.6.3"
  }
 },
 "nbformat": 4,
 "nbformat_minor": 2
}
