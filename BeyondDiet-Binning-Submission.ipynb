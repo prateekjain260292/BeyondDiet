{
 "cells": [
  {
   "cell_type": "code",
   "execution_count": 1,
   "metadata": {},
   "outputs": [
    {
     "name": "stdout",
     "output_type": "stream",
     "text": [
      "['GENDER', 'AGE', 'MONTHJOINED', 'SOURCE', 'DEVICE', 'LTDURATION', 'Day0CLV', ' LTCLV ']\n",
      "['F', '71.11666667', 'January', 'HumanInteraction', 'NULL', '274', '37.19', '181.1']\n",
      "['F', '44.28333333', 'July', 'facebook', 'anphone', '107', '37.31', '37.31']\n",
      "['F', '57.875', 'April', 'facebook', 'anphone', '178', '37.19', '123.17']\n"
     ]
    }
   ],
   "source": [
    "import numpy as np\n",
    "#0,2,6,7,9,14,15,16,17,18\n",
    "list = []\n",
    "list1 = []\n",
    "with open('C:\\RUTGERS\\Analytics\\BDdata_S1_prateek5.csv') as f:\n",
    "    for line in f:\n",
    "        ele = line.split(',')\n",
    "        #LTDuration Normalized\n",
    "        #list.append(np.delete(line.split(','), [0,1,2,5,9,13]).tolist())\n",
    "        #Normal\n",
    "        list.append(np.delete(line.split(','), [0,1,2,5,10,13]).tolist())\n",
    "\n",
    "print (list[0])\n",
    "print (list[1])\n",
    "print (list[2])\n",
    "print (list[25645])"
   ]
  },
  {
   "cell_type": "code",
   "execution_count": 2,
   "metadata": {
    "collapsed": true
   },
   "outputs": [],
   "source": [
    "del list[0]"
   ]
  },
  {
   "cell_type": "code",
   "execution_count": 3,
   "metadata": {
    "scrolled": true
   },
   "outputs": [
    {
     "name": "stdout",
     "output_type": "stream",
     "text": [
      "36.96\n",
      "81.8305469467\n",
      "94.962060581\n"
     ]
    }
   ],
   "source": [
    "ltclv = []\n",
    "for ele in list:\n",
    "    ltclv.append(float(ele[7]))\n",
    "    \"\"\"\n",
    "    if ele[7] == ele[6]:\n",
    "        pass\n",
    "    else:\n",
    "        ltclv.append(float(ele[7]))\n",
    "    \"\"\"\n",
    "    \n",
    "print (np.min(ltclv))\n",
    "print (np.mean(ltclv))\n",
    "print (np.std(ltclv))"
   ]
  },
  {
   "cell_type": "code",
   "execution_count": 4,
   "metadata": {},
   "outputs": [
    {
     "name": "stdout",
     "output_type": "stream",
     "text": [
      "176.73\n",
      "81.91\n",
      "[(0, 25556), (2, 5784), (1, 5316), (3, 4774)]\n"
     ]
    },
    {
     "data": {
      "text/plain": [
       "<function sys.exit>"
      ]
     },
     "execution_count": 4,
     "metadata": {},
     "output_type": "execute_result"
    }
   ],
   "source": [
    "class_train = []\n",
    "\n",
    "#include single users\n",
    "\n",
    "\n",
    "for ele in list:\n",
    "    if float(ele[7]) == float(ele[6]):\n",
    "        class_train.append(0)\n",
    "    elif float(ele[7]) < 81.83:\n",
    "        class_train.append(1)\n",
    "    elif float(ele[7]) < 176.79:\n",
    "        class_train.append(2)\n",
    "    else:\n",
    "        class_train.append(3)\n",
    "\"\"\"\n",
    "\n",
    "#not include single users\n",
    "for ele in list:\n",
    "    if float(ele[7]) == float(ele[6]):\n",
    "        class_train.append(0)\n",
    "    elif float(ele[7]) < 153.67:\n",
    "        class_train.append(1)\n",
    "    elif float(ele[7]) < 276.84:\n",
    "        class_train.append(2)\n",
    "    else:\n",
    "        class_train.append(3)\n",
    "\"\"\"\n",
    "\n",
    "min2 = 10000.0\n",
    "max2 = 0.0\n",
    "\n",
    "for ele1,ele2 in zip(list,class_train):\n",
    "    if ele2 == 2:\n",
    "        if float(ele1[7]) < float(min2):\n",
    "            min2 = ele1[7]\n",
    "        if float(ele1[7]) > float(max2):\n",
    "            max2 = ele1[7]\n",
    "\n",
    "print (max2)\n",
    "print (min2)\n",
    "\n",
    "from collections import Counter\n",
    "c = Counter(class_train)\n",
    "print (c.most_common())\n",
    "import sys\n",
    "sys.exit"
   ]
  },
  {
   "cell_type": "code",
   "execution_count": 5,
   "metadata": {},
   "outputs": [
    {
     "name": "stdout",
     "output_type": "stream",
     "text": [
      "['F', '71.11666667', 'January', 'HumanInteraction', 'NULL', '274', '37.19', '181.1']\n",
      "['F', '44.28333333', 'July', 'facebook', 'anphone', '107', '37.31', '37.31']\n",
      "[0, 71.11666667, 0, 2, 1, 274.0, 37.19]\n",
      "[0, 44.28333333, 6, 0, 2, 107.0, 37.31]\n"
     ]
    }
   ],
   "source": [
    "gender = ['F','M','NULL']\n",
    "MonthJoined = ['January','February','March','April','May','June','July','August','September','October', 'NULL']\n",
    "source = ['facebook', 'NULL', 'HumanInteraction', 'bing', 'adwords', 'pinterest', 'retargeting', 'affiliate', 'google', 'youtube', 'thrivefacebook']\n",
    "device = ['iphone', 'NULL', 'anphone', 'desktop']\n",
    "\n",
    "final = []\n",
    "\n",
    "for ele in list:\n",
    "    gen = ele[0]\n",
    "    mon = ele[2]\n",
    "    sou = ele[3]\n",
    "    dev = ele[4]\n",
    "    if ele[1] == 'NULL':\n",
    "        age = 7\n",
    "    elif float(ele[1]) <= 17:\n",
    "        age = 0\n",
    "    elif float(ele[1]) <= 24:\n",
    "        age = 1\n",
    "    elif float(ele[1]) <= 34:\n",
    "        age = 2\n",
    "    elif float(ele[1]) <= 44:\n",
    "        age = 3\n",
    "    elif float(ele[1]) <= 54:\n",
    "        age = 4\n",
    "    elif float(ele[1]) <= 64:\n",
    "        age = 5\n",
    "    else:\n",
    "        age = 6\n",
    "    if ele[1] == 'NULL':\n",
    "        ele[1] = 0\n",
    "    if ele[5] == 'NULL':\n",
    "        ele[5] = 0\n",
    "    if ele[6] == 'NULL':\n",
    "        ele[6] = 0\n",
    "    #Normal    \n",
    "    final.append([gender.index(gen), float(ele[1]), MonthJoined.index(mon), source.index(sou), device.index(dev), float(ele[5]), float(ele[6])])\n",
    "    #Remove Age & LTDuration\n",
    "    #final.append([gender.index(gen),MonthJoined.index(mon), source.index(sou), device.index(dev), float(ele[6])])\n",
    "    #Nominal Age\n",
    "    #final.append([gender.index(gen), age, MonthJoined.index(mon), source.index(sou), device.index(dev), float(ele[5]), float(ele[6])])\n",
    "\n",
    "print (list[0])\n",
    "print (list[1])\n",
    "print (final[0])\n",
    "print (final[1])"
   ]
  },
  {
   "cell_type": "code",
   "execution_count": 6,
   "metadata": {
    "scrolled": true
   },
   "outputs": [
    {
     "name": "stdout",
     "output_type": "stream",
     "text": [
      "[(0, 20375), (2, 4639), (1, 4262), (3, 3868)]\n",
      "[(0, 5181), (2, 1145), (1, 1054), (3, 906)]\n",
      "33144\n",
      "8286\n"
     ]
    }
   ],
   "source": [
    "from sklearn.model_selection import train_test_split\n",
    "from collections import Counter\n",
    "\n",
    "X_train, X_test, y_train, y_test = train_test_split(final, class_train, test_size=0.2)\n",
    "\n",
    "c = Counter(y_train)\n",
    "print (c.most_common())\n",
    "\n",
    "c = Counter(y_test)\n",
    "print (c.most_common())\n",
    "\n",
    "\n",
    "print (len(y_train))\n",
    "print (len(y_test))"
   ]
  },
  {
   "cell_type": "code",
   "execution_count": 7,
   "metadata": {
    "collapsed": true
   },
   "outputs": [],
   "source": [
    "import matplotlib.pyplot as plt\n",
    "\n",
    "def plot_confusion_matrix(cm, classes,\n",
    "                          normalize=False,\n",
    "                          title='Confusion matrix',\n",
    "                          cmap=plt.cm.Blues):\n",
    "    \"\"\"\n",
    "    This function prints and plots the confusion matrix.\n",
    "    Normalization can be applied by setting `normalize=True`.\n",
    "    \"\"\"\n",
    "    if normalize:\n",
    "        cm = cm.astype('float') / cm.sum(axis=1)[:, np.newaxis]\n",
    "        print(\"Normalized confusion matrix\")\n",
    "    else:\n",
    "        print('Confusion matrix, without normalization')\n",
    "\n",
    "    print(cm)\n",
    "\n",
    "    plt.imshow(cm, interpolation='nearest', cmap=cmap)\n",
    "    plt.title(title)\n",
    "    plt.colorbar()\n",
    "    tick_marks = np.arange(len(classes))\n",
    "    plt.xticks(tick_marks, classes, rotation=45)\n",
    "    plt.yticks(tick_marks, classes)\n",
    "\n",
    "    fmt = '.2f' if normalize else 'd'\n",
    "    thresh = cm.max() / 2.\n",
    "    for i, j in itertools.product(range(cm.shape[0]), range(cm.shape[1])):\n",
    "        plt.text(j, i, format(cm[i, j], fmt),\n",
    "                 horizontalalignment=\"center\",\n",
    "                 color=\"white\" if cm[i, j] > thresh else \"black\")\n",
    "\n",
    "    plt.tight_layout()\n",
    "    plt.ylabel('True label')\n",
    "    plt.xlabel('Predicted label')"
   ]
  },
  {
   "cell_type": "code",
   "execution_count": 8,
   "metadata": {},
   "outputs": [
    {
     "name": "stdout",
     "output_type": "stream",
     "text": [
      "Accuracy: 0.625271542361\n",
      "             precision    recall  f1-score   support\n",
      "\n",
      "       Once       0.63      1.00      0.77      5181\n",
      "        Low       0.00      0.00      0.00      1054\n",
      "        Mid       0.00      0.00      0.00      1145\n",
      "       High       0.00      0.00      0.00       906\n",
      "\n",
      "avg / total       0.39      0.63      0.48      8286\n",
      "\n",
      "Confusion matrix, without normalization\n",
      "[[5181    0    0    0]\n",
      " [1054    0    0    0]\n",
      " [1145    0    0    0]\n",
      " [ 906    0    0    0]]\n"
     ]
    },
    {
     "name": "stderr",
     "output_type": "stream",
     "text": [
      "C:\\Users\\prate\\Anaconda3\\lib\\site-packages\\sklearn\\metrics\\classification.py:1135: UndefinedMetricWarning: Precision and F-score are ill-defined and being set to 0.0 in labels with no predicted samples.\n",
      "  'precision', 'predicted', average, warn_for)\n"
     ]
    },
    {
     "name": "stdout",
     "output_type": "stream",
     "text": [
      "[ 0.6145959   0.6145959   0.6147813   0.6147813   0.6147813   0.61466506\n",
      "  0.61466506  0.61466506  0.61485059  0.61503623]\n"
     ]
    },
    {
     "name": "stderr",
     "output_type": "stream",
     "text": [
      "C:\\Users\\prate\\Anaconda3\\lib\\site-packages\\sklearn\\metrics\\classification.py:1135: UndefinedMetricWarning: Precision is ill-defined and being set to 0.0 in labels with no predicted samples.\n",
      "  'precision', 'predicted', average, warn_for)\n",
      "C:\\Users\\prate\\Anaconda3\\lib\\site-packages\\sklearn\\metrics\\classification.py:1135: UndefinedMetricWarning: Precision is ill-defined and being set to 0.0 in labels with no predicted samples.\n",
      "  'precision', 'predicted', average, warn_for)\n",
      "C:\\Users\\prate\\Anaconda3\\lib\\site-packages\\sklearn\\metrics\\classification.py:1135: UndefinedMetricWarning: Precision is ill-defined and being set to 0.0 in labels with no predicted samples.\n",
      "  'precision', 'predicted', average, warn_for)\n",
      "C:\\Users\\prate\\Anaconda3\\lib\\site-packages\\sklearn\\metrics\\classification.py:1135: UndefinedMetricWarning: Precision is ill-defined and being set to 0.0 in labels with no predicted samples.\n",
      "  'precision', 'predicted', average, warn_for)\n",
      "C:\\Users\\prate\\Anaconda3\\lib\\site-packages\\sklearn\\metrics\\classification.py:1135: UndefinedMetricWarning: Precision is ill-defined and being set to 0.0 in labels with no predicted samples.\n",
      "  'precision', 'predicted', average, warn_for)\n",
      "C:\\Users\\prate\\Anaconda3\\lib\\site-packages\\sklearn\\metrics\\classification.py:1135: UndefinedMetricWarning: Precision is ill-defined and being set to 0.0 in labels with no predicted samples.\n",
      "  'precision', 'predicted', average, warn_for)\n",
      "C:\\Users\\prate\\Anaconda3\\lib\\site-packages\\sklearn\\metrics\\classification.py:1135: UndefinedMetricWarning: Precision is ill-defined and being set to 0.0 in labels with no predicted samples.\n",
      "  'precision', 'predicted', average, warn_for)\n",
      "C:\\Users\\prate\\Anaconda3\\lib\\site-packages\\sklearn\\metrics\\classification.py:1135: UndefinedMetricWarning: Precision is ill-defined and being set to 0.0 in labels with no predicted samples.\n",
      "  'precision', 'predicted', average, warn_for)\n",
      "C:\\Users\\prate\\Anaconda3\\lib\\site-packages\\sklearn\\metrics\\classification.py:1135: UndefinedMetricWarning: Precision is ill-defined and being set to 0.0 in labels with no predicted samples.\n",
      "  'precision', 'predicted', average, warn_for)\n",
      "C:\\Users\\prate\\Anaconda3\\lib\\site-packages\\sklearn\\metrics\\classification.py:1135: UndefinedMetricWarning: Precision is ill-defined and being set to 0.0 in labels with no predicted samples.\n",
      "  'precision', 'predicted', average, warn_for)\n"
     ]
    },
    {
     "name": "stdout",
     "output_type": "stream",
     "text": [
      "[ 0.37784206  0.37772812  0.37795604  0.37795604  0.37795604  0.37781313\n",
      "  0.37792717  0.37781313  0.37804125  0.37826957]\n",
      "[ 0.6145959   0.6145959   0.6147813   0.6147813   0.6147813   0.61466506\n",
      "  0.61466506  0.61466506  0.61485059  0.61503623]\n"
     ]
    },
    {
     "name": "stderr",
     "output_type": "stream",
     "text": [
      "C:\\Users\\prate\\Anaconda3\\lib\\site-packages\\sklearn\\metrics\\classification.py:1135: UndefinedMetricWarning: F-score is ill-defined and being set to 0.0 in labels with no predicted samples.\n",
      "  'precision', 'predicted', average, warn_for)\n",
      "C:\\Users\\prate\\Anaconda3\\lib\\site-packages\\sklearn\\metrics\\classification.py:1135: UndefinedMetricWarning: F-score is ill-defined and being set to 0.0 in labels with no predicted samples.\n",
      "  'precision', 'predicted', average, warn_for)\n",
      "C:\\Users\\prate\\Anaconda3\\lib\\site-packages\\sklearn\\metrics\\classification.py:1135: UndefinedMetricWarning: F-score is ill-defined and being set to 0.0 in labels with no predicted samples.\n",
      "  'precision', 'predicted', average, warn_for)\n",
      "C:\\Users\\prate\\Anaconda3\\lib\\site-packages\\sklearn\\metrics\\classification.py:1135: UndefinedMetricWarning: F-score is ill-defined and being set to 0.0 in labels with no predicted samples.\n",
      "  'precision', 'predicted', average, warn_for)\n",
      "C:\\Users\\prate\\Anaconda3\\lib\\site-packages\\sklearn\\metrics\\classification.py:1135: UndefinedMetricWarning: F-score is ill-defined and being set to 0.0 in labels with no predicted samples.\n",
      "  'precision', 'predicted', average, warn_for)\n",
      "C:\\Users\\prate\\Anaconda3\\lib\\site-packages\\sklearn\\metrics\\classification.py:1135: UndefinedMetricWarning: F-score is ill-defined and being set to 0.0 in labels with no predicted samples.\n",
      "  'precision', 'predicted', average, warn_for)\n",
      "C:\\Users\\prate\\Anaconda3\\lib\\site-packages\\sklearn\\metrics\\classification.py:1135: UndefinedMetricWarning: F-score is ill-defined and being set to 0.0 in labels with no predicted samples.\n",
      "  'precision', 'predicted', average, warn_for)\n",
      "C:\\Users\\prate\\Anaconda3\\lib\\site-packages\\sklearn\\metrics\\classification.py:1135: UndefinedMetricWarning: F-score is ill-defined and being set to 0.0 in labels with no predicted samples.\n",
      "  'precision', 'predicted', average, warn_for)\n",
      "C:\\Users\\prate\\Anaconda3\\lib\\site-packages\\sklearn\\metrics\\classification.py:1135: UndefinedMetricWarning: F-score is ill-defined and being set to 0.0 in labels with no predicted samples.\n",
      "  'precision', 'predicted', average, warn_for)\n"
     ]
    },
    {
     "name": "stdout",
     "output_type": "stream",
     "text": [
      "[ 0.46797924  0.46789183  0.46812041  0.46812041  0.46812041  0.4679771\n",
      "  0.46806457  0.4679771   0.46820585  0.46843477]\n"
     ]
    },
    {
     "name": "stderr",
     "output_type": "stream",
     "text": [
      "C:\\Users\\prate\\Anaconda3\\lib\\site-packages\\sklearn\\metrics\\classification.py:1135: UndefinedMetricWarning: F-score is ill-defined and being set to 0.0 in labels with no predicted samples.\n",
      "  'precision', 'predicted', average, warn_for)\n"
     ]
    },
    {
     "data": {
      "image/png": "[encoded data removed]",
      "text/plain": [
       "<matplotlib.figure.Figure at 0x26e9fb2ae48>"
      ]
     },
     "metadata": {},
     "output_type": "display_data"
    },
    {
     "data": {
      "text/plain": [
       "<matplotlib.figure.Figure at 0x26e9f8edf98>"
      ]
     },
     "metadata": {},
     "output_type": "display_data"
    }
   ],
   "source": [
    "import matplotlib.pyplot as plt\n",
    "from sklearn.metrics import confusion_matrix\n",
    "import itertools\n",
    "from sklearn.metrics import precision_score\n",
    "from sklearn.metrics import accuracy_score\n",
    "from sklearn.metrics import recall_score\n",
    "from sklearn.metrics import classification_report\n",
    "from sklearn.metrics import precision_recall_curve\n",
    "from sklearn.metrics import roc_curve\n",
    "from sklearn.model_selection import cross_validate\n",
    "from sklearn.model_selection import cross_val_score\n",
    "\n",
    "from sklearn.naive_bayes import BernoulliNB\n",
    "\n",
    "\n",
    "class_names = ['Once','Low','Mid','High']\n",
    "#print len(X_train)\n",
    "#print len(y_train)\n",
    "\n",
    "clf = BernoulliNB()\n",
    "clf.fit(X_train, y_train)\n",
    "\n",
    "pred = clf.predict(np.array(X_test))\n",
    "proba = clf.predict_proba(np.array(X_test))\n",
    "\n",
    "score = []\n",
    "for ele in proba:\n",
    "    score.append(ele[1])\n",
    "\n",
    "from sklearn.metrics import accuracy_score\n",
    "print ('Accuracy: '+str(accuracy_score(y_test, pred)))\n",
    "print(classification_report(y_test, pred, target_names=class_names))\n",
    "\n",
    "\n",
    "cnf_matrix = confusion_matrix(y_test, pred)\n",
    "\n",
    "\n",
    "%matplotlib inline\n",
    "# Plot non-normalized confusion matrix\n",
    "plot_confusion_matrix(cnf_matrix, classes=class_names,\n",
    "                      title='Confusion matrix')\n",
    "plt.figure()\n",
    "\n",
    "#For Cross Validatio\n",
    "#scores = cross_validate(clf, final, class_train, cv=10, scoring = ['accuracy','precision_weighted','recall_weighted','f1_weighted'])\n",
    "#print (scores)\n",
    "scores = cross_val_score(clf, X_train, y_train, cv=10, scoring = 'accuracy')\n",
    "print (scores)\n",
    "scores = cross_val_score(clf, X_train, y_train, cv=10, scoring = 'precision_weighted')\n",
    "print (scores)\n",
    "scores = cross_val_score(clf, X_train, y_train, cv=10, scoring = 'recall_weighted')\n",
    "print (scores)\n",
    "scores = cross_val_score(clf, X_train, y_train, cv=10, scoring = 'f1_weighted')\n",
    "print (scores)"
   ]
  },
  {
   "cell_type": "code",
   "execution_count": null,
   "metadata": {},
   "outputs": [
    {
     "name": "stdout",
     "output_type": "stream",
     "text": [
      "[ 0.02822236  0.50322018  0.01681107  0.03861216  0.06574276  0.33703412\n",
      "  0.01035734]\n",
      "Accuracy: 0.542843350229\n",
      "             precision    recall  f1-score   support\n",
      "\n",
      "       Once       0.64      0.81      0.71      5181\n",
      "        Low       0.19      0.11      0.14      1054\n",
      "        Mid       0.20      0.11      0.14      1145\n",
      "       High       0.16      0.09      0.11       906\n",
      "\n",
      "avg / total       0.47      0.54      0.50      8286\n",
      "\n",
      "Confusion matrix, without normalization\n",
      "[[4173  348  358  302]\n",
      " [ 787  118   86   63]\n",
      " [ 864   89  128   64]\n",
      " [ 674   79   74   79]]\n",
      "[ 0.52382388  0.53679131  0.51402715  0.53333333  0.52911011  0.52112251\n",
      "  0.52896801  0.53349427  0.53154241  0.52596618]\n",
      "[ 0.45467494  0.45485457  0.44263502  0.45456198  0.45494337  0.45022414\n",
      "  0.45245765  0.45656218  0.46476424  0.46114465]\n",
      "[ 0.52382388  0.5331725   0.51855204  0.53122172  0.53574661  0.53862402\n",
      "  0.52806276  0.53198552  0.52218533  0.52868357]\n",
      "[ 0.47948231  0.48598731  0.46712859  0.47808165  0.48134389  0.48707396\n",
      "  0.47582743  0.48429372  0.48548626  0.49162654]\n"
     ]
    },
    {
     "data": {
      "image/png": "[encoded data removed]",
      "text/plain": [
       "<matplotlib.figure.Figure at 0x26e9fbb5668>"
      ]
     },
     "metadata": {},
     "output_type": "display_data"
    },
    {
     "data": {
      "text/plain": [
       "<matplotlib.figure.Figure at 0x26e9fa96908>"
      ]
     },
     "metadata": {},
     "output_type": "display_data"
    }
   ],
   "source": [
    "from sklearn.ensemble import RandomForestClassifier\n",
    "\n",
    "clf2 = RandomForestClassifier(n_estimators=10, criterion='entropy', max_features = None)\n",
    "\n",
    "clf2.fit(X_train, y_train)\n",
    "\n",
    "pred2 = clf2.predict(np.array(X_test))\n",
    "proba2 = clf2.predict_proba(np.array(X_test))\n",
    "\n",
    "score2 = []\n",
    "for ele in proba2:\n",
    "    score2.append(ele[1])\n",
    "    \n",
    "print (clf2.feature_importances_)\n",
    "\n",
    "print ('Accuracy: '+str(accuracy_score(y_test, pred2)))\n",
    "print(classification_report(y_test, pred2, target_names=class_names))\n",
    "\n",
    "cnf_matrix = confusion_matrix(y_test, pred2)\n",
    "\n",
    "%matplotlib inline\n",
    "# Plot non-normalized confusion matrix\n",
    "plot_confusion_matrix(cnf_matrix, classes=class_names,\n",
    "                      title='Confusion matrix')\n",
    "plt.figure()\n",
    "\n",
    "#For Cross Validation\n",
    "#scores = cross_validate(clf2, final, class_train, cv=10, scoring = ['accuracy','precision_weighted','recall_weighted','f1_weighted'])\n",
    "#print (scores)\n",
    "scores = cross_val_score(clf2, X_train, y_train, cv=10, scoring = 'accuracy')\n",
    "print (scores)\n",
    "scores = cross_val_score(clf2, X_train, y_train, cv=10, scoring = 'precision_weighted')\n",
    "print (scores)\n",
    "scores = cross_val_score(clf2, X_train, y_train, cv=10, scoring = 'recall_weighted')\n",
    "print (scores)\n",
    "scores = cross_val_score(clf2, X_train, y_train, cv=10, scoring = 'f1_weighted')\n",
    "print (scores)"
   ]
  },
  {
   "cell_type": "code",
   "execution_count": null,
   "metadata": {
    "collapsed": true
   },
   "outputs": [],
   "source": [
    "from sklearn.svm import SVC\n",
    "\n",
    "clf3 = SVC(probability=False)\n",
    "\n",
    "clf3.fit(X_train, y_train)\n",
    "\n",
    "pred3 = clf3.predict(np.array(X_test))\n",
    "#proba3 = clf3.predict_proba(np.array(X_test))\n",
    "\n",
    "\"\"\"\n",
    "score3 = []\n",
    "for ele in proba3:\n",
    "    score3.append(ele[1])\n",
    "\"\"\"\n",
    "\n",
    "print ('Accuracy: '+str(accuracy_score(y_test, pred3)))\n",
    "print(classification_report(y_test, pred3, target_names=class_names))\n",
    "\n",
    "cnf_matrix = confusion_matrix(y_test, pred3)\n",
    "\n",
    "%matplotlib inline\n",
    "# Plot non-normalized confusion matrix\n",
    "plot_confusion_matrix(cnf_matrix, classes=class_names,\n",
    "                      title='Confusion matrix')\n",
    "plt.figure()\n",
    "\"\"\"\n",
    "fpr, tpr, thresholds = roc_curve(y_test, score)\n",
    "plt.plot(fpr,tpr,color='b', alpha=0.2, label= 'Naive')\n",
    "\n",
    "fpr2, tpr2, thresholds2 = roc_curve(y_test, score2)\n",
    "plt.plot(fpr2,tpr2,color='r', alpha=0.2, label= 'RF')\n",
    "\n",
    "fpr3, tpr3, thresholds3 = roc_curve(y_test, score3)\n",
    "plt.plot(fpr3,tpr3,color='g', alpha=0.2, label= 'SVC')\n",
    "\n",
    "plt.figure\n",
    "\"\"\"\n",
    "#For Cross Validatio\n",
    "#scores = cross_validate(clf3, final, class_train, cv=10, scoring = ['accuracy','precision_weighted','recall_weighted','f1_weighted'])\n",
    "#print (scores)\n",
    "scores = cross_val_score(clf3, X_train, y_train, cv=10, scoring = 'accuracy')\n",
    "print (scores)\n",
    "scores = cross_val_score(clf3, X_train, y_train, cv=10, scoring = 'precision_weighted')\n",
    "print (scores)\n",
    "scores = cross_val_score(clf3, X_train, y_train, cv=10, scoring = 'recall_weighted')\n",
    "print (scores)\n",
    "scores = cross_val_score(clf3, X_train, y_train, cv=10, scoring = 'f1_weighted')\n",
    "print (scores)"
   ]
  }
 ],
 "metadata": {
  "kernelspec": {
   "display_name": "Python 3",
   "language": "python",
   "name": "python3"
  },
  "language_info": {
   "codemirror_mode": {
    "name": "ipython",
    "version": 3
   },
   "file_extension": ".py",
   "mimetype": "text/x-python",
   "name": "python",
   "nbconvert_exporter": "python",
   "pygments_lexer": "ipython3",
   "version": "3.6.3"
  }
 },
 "nbformat": 4,
 "nbformat_minor": 2
}
