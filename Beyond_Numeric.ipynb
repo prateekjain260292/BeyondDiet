{
 "cells": [
  {
   "cell_type": "code",
   "execution_count": 5,
   "metadata": {},
   "outputs": [
    {
     "name": "stdout",
     "output_type": "stream",
     "text": [
      "['GENDER', 'AGE', 'MONTHJOINED', 'SOURCE', 'DEVICE', 'LTDURATION', 'Day0CLV', ' LTCLV ']\n",
      "['F', '71.11666667', 'January', 'HumanInteraction', 'NULL', '274', '37.19', '181.1']\n",
      "['F', '44.28333333', 'July', 'facebook', 'anphone', '107', '37.31', '37.31']\n",
      "['F', '57.875', 'April', 'facebook', 'anphone', '178', '37.19', '123.17']\n",
      "123.17\n"
     ]
    }
   ],
   "source": [
    "import numpy as np\n",
    "#0,2,6,7,9,14,15,16,17,18\n",
    "list = []\n",
    "list1 = []\n",
    "class_train = []\n",
    "with open('C:\\RUTGERS\\Analytics\\BDdata_S1_prateek5.csv') as f:\n",
    "    for line in f:\n",
    "        ele = line.split(',')\n",
    "        #list.append(line.split(','))\n",
    "        class_train.append(ele[12])\n",
    "        list.append(np.delete(line.split(','), [0,1,2,5,10,13]).tolist())\n",
    "        \n",
    "print (list[0])\n",
    "print (list[1])\n",
    "print (list[2])\n",
    "print (list[25645])\n",
    "print (class_train[25645])"
   ]
  },
  {
   "cell_type": "code",
   "execution_count": 6,
   "metadata": {
    "collapsed": true
   },
   "outputs": [],
   "source": [
    "del list[0]\n",
    "del class_train[0]"
   ]
  },
  {
   "cell_type": "code",
   "execution_count": 7,
   "metadata": {},
   "outputs": [
    {
     "name": "stdout",
     "output_type": "stream",
     "text": [
      "['F', '71.11666667', 'January', 'HumanInteraction', 'NULL', '274', '37.19', '181.1']\n",
      "['F', '44.28333333', 'July', 'facebook', 'anphone', '107', '37.31', '37.31']\n",
      "[0, 0, 2, 1, 37.19]\n",
      "[0, 6, 0, 2, 37.31]\n"
     ]
    }
   ],
   "source": [
    "gender = ['F','M','NULL']\n",
    "MonthJoined = ['January','February','March','April','May','June','July','August','September','October', 'NULL']\n",
    "\n",
    "source = ['facebook', 'NULL', 'HumanInteraction', 'bing', 'adwords', 'pinterest', 'retargeting', 'affiliate', 'google', 'youtube', 'thrivefacebook']\n",
    "device = ['iphone', 'NULL', 'anphone', 'desktop']\n",
    "\n",
    "final = []\n",
    "\n",
    "for ele in list:\n",
    "    gen = ele[0]\n",
    "    mon = ele[2]\n",
    "    sou = ele[3]\n",
    "    dev = ele[4]\n",
    "    if ele[1] == 'NULL':\n",
    "        age = 7\n",
    "    elif float(ele[1]) <= 17:\n",
    "        age = 0\n",
    "    elif float(ele[1]) <= 24:\n",
    "        age = 1\n",
    "    elif float(ele[1]) <= 34:\n",
    "        age = 2\n",
    "    elif float(ele[1]) <= 44:\n",
    "        age = 3\n",
    "    elif float(ele[1]) <= 54:\n",
    "        age = 4\n",
    "    elif float(ele[1]) <= 64:\n",
    "        age = 5\n",
    "    else:\n",
    "        age = 6\n",
    "    #if ele[1] == 'NULL':\n",
    "        #ele[1] = 0\n",
    "    if ele[5] == 'NULL':\n",
    "        ele[5] = 0\n",
    "    if ele[6] == 'NULL':\n",
    "        ele[6] = 0\n",
    "    #final.append([gender.index(gen), float(ele[1]), MonthJoined.index(mon), source.index(sou), device.index(dev), int(ele[5]), float(ele[6])])\n",
    "    #final.append([gender.index(gen), MonthJoined.index(mon), source.index(sou), device.index(dev), float(ele[6])])\n",
    "    final.append([gender.index(gen), age, MonthJoined.index(mon), source.index(sou), device.index(dev), float(ele[5]), float(ele[6])])\n",
    "\n",
    "    \n",
    "final_class_train = []\n",
    "\n",
    "for ele in class_train:\n",
    "    final_class_train.append(float(ele))\n",
    "    \n",
    "print (list[0])\n",
    "print (list[1])\n",
    "print (final[0])\n",
    "print (final[1])"
   ]
  },
  {
   "cell_type": "code",
   "execution_count": 8,
   "metadata": {},
   "outputs": [
    {
     "name": "stdout",
     "output_type": "stream",
     "text": [
      "33144\n",
      "8286\n",
      "33144\n",
      "8286\n"
     ]
    }
   ],
   "source": [
    "from sklearn.model_selection import train_test_split\n",
    "from collections import Counter\n",
    "\n",
    "X_train, X_test, y_train, y_test = train_test_split(final, final_class_train, test_size=0.2)\n",
    "\n",
    "print (len(X_train))\n",
    "print (len(X_test))\n",
    "print (len(y_train))\n",
    "print (len(y_test))"
   ]
  },
  {
   "cell_type": "code",
   "execution_count": 9,
   "metadata": {},
   "outputs": [
    {
     "name": "stdout",
     "output_type": "stream",
     "text": [
      "[ 0.40355766  0.32297966  0.11324955  0.07120929  0.08900384]\n",
      "[ 56.69571788]\n",
      "[123.44, 223.15, 37.19, 37.08, 37.19, 65.83, 408.01, 37.31, 37.19, 438.75]\n",
      "[  93.86218186  104.63338767   59.27231188   95.53245485   99.88379711\n",
      "   82.66372468  109.98665466   58.25675481  108.49427266   99.53010152]\n"
     ]
    }
   ],
   "source": [
    "from sklearn.ensemble import RandomForestRegressor\n",
    "\n",
    "regr = RandomForestRegressor(n_estimators=100,random_state=0,max_features=None)\n",
    "regr.fit(X_train, y_train)\n",
    "\n",
    "pred = regr.predict(X_test)\n",
    "\n",
    "print (regr.feature_importances_ )\n",
    "\n",
    "from sklearn.metrics import mean_absolute_error\n",
    "\n",
    "acc = mean_absolute_error(y_test, pred, multioutput='raw_values')\n",
    "\n",
    "print (acc)\n",
    "\n",
    "print (y_test[:10])\n",
    "print (pred[:10])\n"
   ]
  },
  {
   "cell_type": "code",
   "execution_count": 10,
   "metadata": {},
   "outputs": [
    {
     "name": "stdout",
     "output_type": "stream",
     "text": [
      "[ 67.48500781]\n",
      "[123.44, 223.15, 37.19, 37.08, 37.19, 65.83, 408.01, 37.31, 37.19, 438.75]\n",
      "[ 116.82878496  140.49039423   77.40657689  116.82878496  140.49039423\n",
      "   90.16430164  140.49039423   57.90437823  140.49039423  140.49039423]\n"
     ]
    }
   ],
   "source": [
    "from sklearn.model_selection import cross_val_score\n",
    "from sklearn.ensemble import AdaBoostRegressor\n",
    "\n",
    "regr = AdaBoostRegressor(n_estimators=100)\n",
    "\n",
    "regr.fit(X_train, y_train)\n",
    "\n",
    "pred = regr.predict(X_test)\n",
    "\n",
    "from sklearn.metrics import mean_absolute_error\n",
    "\n",
    "acc = mean_absolute_error(y_test, pred, multioutput='raw_values')\n",
    "\n",
    "print (acc)\n",
    "\n",
    "print (y_test[:10])\n",
    "print (pred[:10])"
   ]
  }
 ],
 "metadata": {
  "kernelspec": {
   "display_name": "Python 3",
   "language": "python",
   "name": "python3"
  },
  "language_info": {
   "codemirror_mode": {
    "name": "ipython",
    "version": 3
   },
   "file_extension": ".py",
   "mimetype": "text/x-python",
   "name": "python",
   "nbconvert_exporter": "python",
   "pygments_lexer": "ipython3",
   "version": "3.6.3"
  }
 },
 "nbformat": 4,
 "nbformat_minor": 2
}
